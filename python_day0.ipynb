{
  "nbformat": 4,
  "nbformat_minor": 0,
  "metadata": {
    "colab": {
      "provenance": []
    },
    "kernelspec": {
      "name": "python3",
      "display_name": "Python 3"
    },
    "language_info": {
      "name": "python"
    }
  },
  "cells": [
    {
      "cell_type": "markdown",
      "source": [
        "Ask a user their weight (in pounds), convert it to kilograms and print on the terminal"
      ],
      "metadata": {
        "id": "p5gBg4tGPz3-"
      }
    },
    {
      "cell_type": "code",
      "execution_count": 5,
      "metadata": {
        "colab": {
          "base_uri": "https://localhost:8080/"
        },
        "id": "FTcGH1_rN-Vt",
        "outputId": "24fce218-5ab7-4e5b-ca26-20751c1e4ca5"
      },
      "outputs": [
        {
          "output_type": "stream",
          "name": "stdout",
          "text": [
            "enter your weight in pounds200\n",
            "your weight in kilos is 90.0\n"
          ]
        }
      ],
      "source": [
        "weight = input(\"enter your weight in pounds\")\n",
        "weight_kilos = int(weight) * 0.45\n",
        "print(\"your weight in kilos is\", weight_kilos)"
      ]
    },
    {
      "cell_type": "code",
      "source": [],
      "metadata": {
        "id": "DI0ENGYPQGNS"
      },
      "execution_count": null,
      "outputs": []
    }
  ]
}